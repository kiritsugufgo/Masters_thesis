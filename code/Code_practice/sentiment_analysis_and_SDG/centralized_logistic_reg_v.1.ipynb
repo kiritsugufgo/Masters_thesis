{
 "cells": [
  {
   "cell_type": "code",
   "execution_count": 1,
   "id": "3e149f26-3cf7-46a2-ad1a-f51a25319005",
   "metadata": {
    "collapsed": true,
    "jupyter": {
     "outputs_hidden": true
    },
    "tags": []
   },
   "outputs": [
    {
     "name": "stdout",
     "output_type": "stream",
     "text": [
      "Defaulting to user installation because normal site-packages is not writeable\n",
      "Requirement already satisfied: numpy in /home/yuto/.local/lib/python3.10/site-packages (1.23.4)\n",
      "Requirement already satisfied: pandas in /home/yuto/.local/lib/python3.10/site-packages (1.5.1)\n",
      "Requirement already satisfied: torch in /home/yuto/.local/lib/python3.10/site-packages (2.5.1)\n",
      "Requirement already satisfied: nltk in /home/yuto/.local/lib/python3.10/site-packages (3.8.1)\n",
      "Requirement already satisfied: seaborn in /home/yuto/.local/lib/python3.10/site-packages (0.12.2)\n",
      "Requirement already satisfied: tqdm in /home/yuto/.local/lib/python3.10/site-packages (4.64.1)\n",
      "Requirement already satisfied: matplotlib in /home/yuto/.local/lib/python3.10/site-packages (3.6.3)\n",
      "Requirement already satisfied: scikit-learn in /home/yuto/.local/lib/python3.10/site-packages (1.2.0)\n",
      "Requirement already satisfied: python-dateutil>=2.8.1 in /home/yuto/.local/lib/python3.10/site-packages (from pandas) (2.8.2)\n",
      "Requirement already satisfied: pytz>=2020.1 in /usr/lib/python3/dist-packages (from pandas) (2022.1)\n",
      "Requirement already satisfied: filelock in /home/yuto/.local/lib/python3.10/site-packages (from torch) (3.8.0)\n",
      "Requirement already satisfied: typing-extensions>=4.8.0 in /home/yuto/.local/lib/python3.10/site-packages (from torch) (4.12.2)\n",
      "Requirement already satisfied: networkx in /home/yuto/.local/lib/python3.10/site-packages (from torch) (3.4.2)\n",
      "Requirement already satisfied: jinja2 in /home/yuto/.local/lib/python3.10/site-packages (from torch) (3.1.2)\n",
      "Requirement already satisfied: fsspec in /home/yuto/.local/lib/python3.10/site-packages (from torch) (2024.10.0)\n",
      "Requirement already satisfied: nvidia-cuda-nvrtc-cu12==12.4.127 in /home/yuto/.local/lib/python3.10/site-packages (from torch) (12.4.127)\n",
      "Requirement already satisfied: nvidia-cuda-runtime-cu12==12.4.127 in /home/yuto/.local/lib/python3.10/site-packages (from torch) (12.4.127)\n",
      "Requirement already satisfied: nvidia-cuda-cupti-cu12==12.4.127 in /home/yuto/.local/lib/python3.10/site-packages (from torch) (12.4.127)\n",
      "Requirement already satisfied: nvidia-cudnn-cu12==9.1.0.70 in /home/yuto/.local/lib/python3.10/site-packages (from torch) (9.1.0.70)\n",
      "Requirement already satisfied: nvidia-cublas-cu12==12.4.5.8 in /home/yuto/.local/lib/python3.10/site-packages (from torch) (12.4.5.8)\n",
      "Requirement already satisfied: nvidia-cufft-cu12==11.2.1.3 in /home/yuto/.local/lib/python3.10/site-packages (from torch) (11.2.1.3)\n",
      "Requirement already satisfied: nvidia-curand-cu12==10.3.5.147 in /home/yuto/.local/lib/python3.10/site-packages (from torch) (10.3.5.147)\n",
      "Requirement already satisfied: nvidia-cusolver-cu12==11.6.1.9 in /home/yuto/.local/lib/python3.10/site-packages (from torch) (11.6.1.9)\n",
      "Requirement already satisfied: nvidia-cusparse-cu12==12.3.1.170 in /home/yuto/.local/lib/python3.10/site-packages (from torch) (12.3.1.170)\n",
      "Requirement already satisfied: nvidia-nccl-cu12==2.21.5 in /home/yuto/.local/lib/python3.10/site-packages (from torch) (2.21.5)\n",
      "Requirement already satisfied: nvidia-nvtx-cu12==12.4.127 in /home/yuto/.local/lib/python3.10/site-packages (from torch) (12.4.127)\n",
      "Requirement already satisfied: nvidia-nvjitlink-cu12==12.4.127 in /home/yuto/.local/lib/python3.10/site-packages (from torch) (12.4.127)\n",
      "Requirement already satisfied: triton==3.1.0 in /home/yuto/.local/lib/python3.10/site-packages (from torch) (3.1.0)\n",
      "Requirement already satisfied: sympy==1.13.1 in /home/yuto/.local/lib/python3.10/site-packages (from torch) (1.13.1)\n",
      "Requirement already satisfied: mpmath<1.4,>=1.1.0 in /home/yuto/.local/lib/python3.10/site-packages (from sympy==1.13.1->torch) (1.3.0)\n",
      "Requirement already satisfied: click in /usr/lib/python3/dist-packages (from nltk) (8.0.3)\n",
      "Requirement already satisfied: joblib in /home/yuto/.local/lib/python3.10/site-packages (from nltk) (1.2.0)\n",
      "Requirement already satisfied: regex>=2021.8.3 in /home/yuto/.local/lib/python3.10/site-packages (from nltk) (2022.10.31)\n",
      "Requirement already satisfied: contourpy>=1.0.1 in /home/yuto/.local/lib/python3.10/site-packages (from matplotlib) (1.0.7)\n",
      "Requirement already satisfied: cycler>=0.10 in /home/yuto/.local/lib/python3.10/site-packages (from matplotlib) (0.11.0)\n",
      "Requirement already satisfied: fonttools>=4.22.0 in /home/yuto/.local/lib/python3.10/site-packages (from matplotlib) (4.38.0)\n",
      "Requirement already satisfied: kiwisolver>=1.0.1 in /home/yuto/.local/lib/python3.10/site-packages (from matplotlib) (1.4.4)\n",
      "Requirement already satisfied: packaging>=20.0 in /home/yuto/.local/lib/python3.10/site-packages (from matplotlib) (21.3)\n",
      "Requirement already satisfied: pillow>=6.2.0 in /usr/lib/python3/dist-packages (from matplotlib) (9.0.1)\n",
      "Requirement already satisfied: pyparsing>=2.2.1 in /usr/lib/python3/dist-packages (from matplotlib) (2.4.7)\n",
      "Requirement already satisfied: scipy>=1.3.2 in /home/yuto/.local/lib/python3.10/site-packages (from scikit-learn) (1.10.0)\n",
      "Requirement already satisfied: threadpoolctl>=2.0.0 in /home/yuto/.local/lib/python3.10/site-packages (from scikit-learn) (3.1.0)\n",
      "Requirement already satisfied: six>=1.5 in /usr/lib/python3/dist-packages (from python-dateutil>=2.8.1->pandas) (1.16.0)\n",
      "Requirement already satisfied: MarkupSafe>=2.0 in /home/yuto/.local/lib/python3.10/site-packages (from jinja2->torch) (2.1.2)\n",
      "\n",
      "\u001b[1m[\u001b[0m\u001b[34;49mnotice\u001b[0m\u001b[1;39;49m]\u001b[0m\u001b[39;49m A new release of pip is available: \u001b[0m\u001b[31;49m24.3.1\u001b[0m\u001b[39;49m -> \u001b[0m\u001b[32;49m25.0.1\u001b[0m\n",
      "\u001b[1m[\u001b[0m\u001b[34;49mnotice\u001b[0m\u001b[1;39;49m]\u001b[0m\u001b[39;49m To update, run: \u001b[0m\u001b[32;49mpython3 -m pip install --upgrade pip\u001b[0m\n"
     ]
    }
   ],
   "source": [
    "!pip install numpy pandas torch nltk seaborn tqdm matplotlib scikit-learn"
   ]
  },
  {
   "cell_type": "code",
   "execution_count": 4,
   "id": "e4218d35-892e-45da-a329-725ad9aa9c0a",
   "metadata": {},
   "outputs": [],
   "source": [
    "import numpy as np \n",
    "import pandas as pd\n",
    "from nltk.corpus import stopwords\n",
    "from collections import Counter\n",
    "import re\n",
    "import matplotlib.pyplot as plt"
   ]
  },
  {
   "cell_type": "code",
   "execution_count": 2,
   "id": "17da8280-860c-4446-bce9-1586ce9914de",
   "metadata": {
    "tags": []
   },
   "outputs": [
    {
     "name": "stderr",
     "output_type": "stream",
     "text": [
      "[nltk_data] Downloading package stopwords to /home/yuto/nltk_data...\n",
      "[nltk_data]   Package stopwords is already up-to-date!\n"
     ]
    },
    {
     "data": {
      "text/plain": [
       "True"
      ]
     },
     "execution_count": 2,
     "metadata": {},
     "output_type": "execute_result"
    }
   ],
   "source": [
    "import nltk\n",
    "nltk.download('stopwords')"
   ]
  },
  {
   "cell_type": "code",
   "execution_count": 5,
   "id": "912cb0d8-5c1e-4a09-8876-50df620f2e14",
   "metadata": {},
   "outputs": [],
   "source": [
    "# Load training and testing data\n",
    "train_df = pd.read_csv('simple_IMBD_dataset/Train.csv')\n",
    "test_df = pd.read_csv('simple_IMBD_dataset/Test.csv')"
   ]
  },
  {
   "cell_type": "code",
   "execution_count": 20,
   "id": "a49d398c-52c4-446f-a333-20ffa3f090ae",
   "metadata": {},
   "outputs": [
    {
     "name": "stdout",
     "output_type": "stream",
     "text": [
      "                                                text  label\n",
      "0  I grew up (b. 1965) watching and loving the Th...      0\n",
      "                                                text  label\n",
      "0  I always wrote this series off as being a comp...      0\n"
     ]
    }
   ],
   "source": [
    "print(train_df.head(1))\n",
    "print(test_df.head(1))"
   ]
  },
  {
   "cell_type": "code",
   "execution_count": 6,
   "id": "405c85ed-5b75-4469-a1f8-9779f48a5d20",
   "metadata": {},
   "outputs": [
    {
     "name": "stdout",
     "output_type": "stream",
     "text": [
      "shape of train data is (40000,)\n",
      "shape of test data is (5000,)\n"
     ]
    }
   ],
   "source": [
    "# Extract features from the df\n",
    "x_train = train_df['text'].values  \n",
    "y_train = train_df['label'].values \n",
    "x_test = test_df['text'].values  \n",
    "y_test = test_df['label'].values  \n",
    "\n",
    "print(f'shape of train data is {x_train.shape}')\n",
    "print(f'shape of test data is {x_test.shape}')"
   ]
  },
  {
   "cell_type": "code",
   "execution_count": 7,
   "id": "52c88621-74c0-4c4d-9d41-9dd57e2fa7b4",
   "metadata": {},
   "outputs": [],
   "source": [
    "#clean text and tokenize\n",
    "def preprocess(text):\n",
    "    text = text.lower()\n",
    "    text = re.sub(r'[^a-z\\s]', '', text)\n",
    "    return text.split()"
   ]
  },
  {
   "cell_type": "code",
   "execution_count": 8,
   "id": "38eebf9a-b11d-4f18-aa1e-9068aa8353ac",
   "metadata": {},
   "outputs": [],
   "source": [
    "def build_vocab(texts, vocab_size):\n",
    "    counter = Counter()\n",
    "    for text in texts:\n",
    "        words = preprocess(text)\n",
    "        counter.update(words)\n",
    "        \n",
    "    most_common = counter.most_common(vocab_size)\n",
    "    vocab = {word: idx for idx, (word, _) in enumerate(most_common)}\n",
    "    return {word: i for i, word in enumerate(vocab)}"
   ]
  },
  {
   "cell_type": "code",
   "execution_count": 9,
   "id": "a8d4fa89-fa2f-446e-ac48-31ee751d9c30",
   "metadata": {},
   "outputs": [],
   "source": [
    "#convert text to BoW \n",
    "def text_to_Bow(text, vocab):\n",
    "    bow = np.zeros(len(vocab))\n",
    "    word_counts = Counter(preprocess(text))\n",
    "    for word, count in word_counts.items():\n",
    "        if word in vocab:\n",
    "            bow[vocab[word]] = count\n",
    "    return bow"
   ]
  },
  {
   "cell_type": "code",
   "execution_count": 10,
   "id": "7a468d8b-49f2-4523-96c0-5cc58dacaf4a",
   "metadata": {},
   "outputs": [],
   "source": [
    "vocab = build_vocab(x_train, vocab_size=15_000)\n",
    "X_train = np.array([text_to_Bow(text, vocab) for text in x_train])\n",
    "X_test = np.array([text_to_Bow(text, vocab) for text in x_test])"
   ]
  },
  {
   "cell_type": "code",
   "execution_count": 11,
   "id": "0ebc2e7e-2187-46ca-a07d-b5674fdf7617",
   "metadata": {},
   "outputs": [
    {
     "name": "stdout",
     "output_type": "stream",
     "text": [
      "X_train: [[ 7.  3.  5. ...  0.  0.  0.]\n",
      " [20.  7. 14. ...  0.  0.  0.]\n",
      " [10.  5.  6. ...  0.  0.  0.]\n",
      " ...\n",
      " [ 8. 10.  3. ...  0.  0.  0.]\n",
      " [15.  8.  5. ...  0.  0.  0.]\n",
      " [ 8.  6.  6. ...  0.  0.  0.]]\n",
      "X_test: [[19.  9. 11. ...  0.  0.  0.]\n",
      " [ 8.  3.  3. ...  0.  0.  0.]\n",
      " [17.  9.  4. ...  0.  0.  0.]\n",
      " ...\n",
      " [ 6.  2.  1. ...  0.  0.  0.]\n",
      " [ 5. 10.  2. ...  0.  0.  0.]\n",
      " [ 5.  3.  5. ...  0.  0.  0.]]\n"
     ]
    }
   ],
   "source": [
    "print(f'X_train: {X_train}')\n",
    "print(f'X_test: {X_test}')"
   ]
  },
  {
   "cell_type": "code",
   "execution_count": 12,
   "id": "713bdee8-5d5e-4243-b51d-afd0eae71ba4",
   "metadata": {},
   "outputs": [
    {
     "data": {
      "text/plain": [
       "(40000, 15000)"
      ]
     },
     "execution_count": 12,
     "metadata": {},
     "output_type": "execute_result"
    }
   ],
   "source": [
    "X_train.shape"
   ]
  },
  {
   "cell_type": "code",
   "execution_count": 13,
   "id": "c27a1e7a-3041-4de9-bc5d-9853c920b880",
   "metadata": {},
   "outputs": [],
   "source": [
    "class LogisticRegressionSGD:\n",
    "    def __init__(self, learning_rate=0.01, epochs=10):\n",
    "        self.learning_rate = learning_rate\n",
    "        self.epochs = epochs\n",
    "        self.weights = None\n",
    "        self.bias = 0\n",
    "        self.loss_history = []\n",
    "    \n",
    "    def sigmoid(self, z):\n",
    "        return 1 / (1 + np.exp(-z))\n",
    "\n",
    "    def train(self, X, y):\n",
    "        num_samples, num_features = X.shape\n",
    "        self.weights = np.zeros(num_features)\n",
    "\n",
    "        for epoch in range(self.epochs):\n",
    "            epoch_loss = 0  \n",
    "            for i in range(num_samples):\n",
    "                xi = X[i]\n",
    "                yi = y[i]\n",
    "                linear_output = np.dot(xi, self.weights) + self.bias\n",
    "                prediction = self.sigmoid(linear_output)\n",
    "\n",
    "                # Compute gradients\n",
    "                error = prediction - yi\n",
    "                self.weights -= self.learning_rate * error * xi\n",
    "                self.bias -= self.learning_rate * error  # Update bias\n",
    "\n",
    "                # Calculate loss for this sample and add to epoch_loss\n",
    "                epsilon = 1e-10\n",
    "                sample_loss = - (yi * np.log(prediction + epsilon) + (1 - yi) * np.log(1 - prediction + epsilon))\n",
    "                epoch_loss += sample_loss\n",
    "\n",
    "            # Average loss over the samples in the epoch\n",
    "            epoch_loss /= num_samples\n",
    "            self.loss_history.append(epoch_loss)\n",
    "            print(f'Epoch {epoch+1}, Loss: {epoch_loss:.4f}')\n",
    "\n",
    "    def predict(self, X):\n",
    "        linear_output = np.dot(X, self.weights) + self.bias\n",
    "        return (self.sigmoid(linear_output) >= 0.5).astype(int)"
   ]
  },
  {
   "cell_type": "code",
   "execution_count": 14,
   "id": "9bbd54ff-1b5b-412f-b1c3-ccb2cecef09c",
   "metadata": {
    "tags": []
   },
   "outputs": [
    {
     "name": "stdout",
     "output_type": "stream",
     "text": [
      "Epoch 1, Loss: 0.9149\n",
      "Epoch 2, Loss: 0.6371\n",
      "Epoch 3, Loss: 0.5305\n",
      "Epoch 4, Loss: 0.4658\n",
      "Epoch 5, Loss: 0.4213\n",
      "Epoch 6, Loss: 0.3915\n",
      "Epoch 7, Loss: 0.3481\n",
      "Epoch 8, Loss: 0.3253\n",
      "Epoch 9, Loss: 0.3133\n",
      "Epoch 10, Loss: 0.2937\n",
      "Epoch 11, Loss: 0.2708\n",
      "Epoch 12, Loss: 0.2620\n",
      "Epoch 13, Loss: 0.2475\n",
      "Epoch 14, Loss: 0.2335\n",
      "Epoch 15, Loss: 0.2296\n",
      "Epoch 16, Loss: 0.2093\n",
      "Epoch 17, Loss: 0.2044\n",
      "Epoch 18, Loss: 0.2040\n",
      "Epoch 19, Loss: 0.1878\n",
      "Epoch 20, Loss: 0.1804\n",
      "Epoch 21, Loss: 0.1766\n",
      "Epoch 22, Loss: 0.1718\n",
      "Epoch 23, Loss: 0.1668\n",
      "Epoch 24, Loss: 0.1617\n",
      "Epoch 25, Loss: 0.1592\n",
      "Epoch 26, Loss: 0.1529\n",
      "Epoch 27, Loss: 0.1507\n",
      "Epoch 28, Loss: 0.1425\n",
      "Epoch 29, Loss: 0.1439\n",
      "Epoch 30, Loss: 0.1353\n",
      "Epoch 31, Loss: 0.1324\n",
      "Epoch 32, Loss: 0.1326\n",
      "Epoch 33, Loss: 0.1327\n",
      "Epoch 34, Loss: 0.1317\n",
      "Epoch 35, Loss: 0.1227\n",
      "Epoch 36, Loss: 0.1200\n",
      "Epoch 37, Loss: 0.1199\n",
      "Epoch 38, Loss: 0.1179\n",
      "Epoch 39, Loss: 0.1113\n",
      "Epoch 40, Loss: 0.1176\n",
      "Epoch 41, Loss: 0.1101\n",
      "Epoch 42, Loss: 0.1050\n",
      "Epoch 43, Loss: 0.1047\n",
      "Epoch 44, Loss: 0.1060\n",
      "Epoch 45, Loss: 0.1066\n",
      "Epoch 46, Loss: 0.1007\n",
      "Epoch 47, Loss: 0.0967\n",
      "Epoch 48, Loss: 0.0960\n",
      "Epoch 49, Loss: 0.0926\n",
      "Epoch 50, Loss: 0.0894\n"
     ]
    }
   ],
   "source": [
    "# Train model\n",
    "model = LogisticRegressionSGD(learning_rate=0.01, epochs=50)\n",
    "model.train(X_train, y_train)"
   ]
  },
  {
   "cell_type": "code",
   "execution_count": 15,
   "id": "bd0adcaf-ec7d-49ab-9f61-8a586f69c18b",
   "metadata": {},
   "outputs": [
    {
     "name": "stdout",
     "output_type": "stream",
     "text": [
      "Accuracy: 0.8678\n"
     ]
    }
   ],
   "source": [
    "y_pred = model.predict(X_test)\n",
    "accuracy = np.mean(y_pred == y_test)\n",
    "print(f'Accuracy: {accuracy:.4f}')"
   ]
  },
  {
   "cell_type": "code",
   "execution_count": 34,
   "id": "15e1c992-cc50-46c1-b6b7-074b73543479",
   "metadata": {},
   "outputs": [
    {
     "data": {
      "image/png": "[encoded data removed]",
      "text/plain": [
       "<Figure size 800x500 with 1 Axes>"
      ]
     },
     "metadata": {},
     "output_type": "display_data"
    }
   ],
   "source": [
    "# Plot training loss over epochs\n",
    "plt.figure(figsize=(8, 5))\n",
    "plt.plot(range(1, model.epochs + 1), model.loss_history, marker='o', linestyle='-', color='b')\n",
    "plt.title('Training Loss per Epoch, Epoch=10')\n",
    "plt.xlabel('Epoch')\n",
    "plt.ylabel('Loss')\n",
    "plt.grid(True)\n",
    "plt.show()"
   ]
  },
  {
   "cell_type": "code",
   "execution_count": 16,
   "id": "948aba1e-2b98-4f06-9a4d-dbd774c88b77",
   "metadata": {},
   "outputs": [
    {
     "data": {
      "image/png": "[encoded data removed]",
      "text/plain": [
       "<Figure size 800x500 with 1 Axes>"
      ]
     },
     "metadata": {},
     "output_type": "display_data"
    }
   ],
   "source": [
    "plt.figure(figsize=(8, 5))\n",
    "plt.plot(range(1, model.epochs + 1), model.loss_history, marker='o', linestyle='-', color='b')\n",
    "plt.title('Training Loss per Epoch, Epoch=50')\n",
    "plt.xlabel('Epoch')\n",
    "plt.ylabel('Loss')\n",
    "plt.grid(True)\n",
    "plt.show()"
   ]
  },
  {
   "cell_type": "code",
   "execution_count": 17,
   "id": "066c94c5-96f1-404c-b3b9-adbd003d3d0d",
   "metadata": {},
   "outputs": [
    {
     "name": "stdout",
     "output_type": "stream",
     "text": [
      "Snippet of the Bag-of-Words matrix (first 5 samples, first 10 features):\n",
      "[[ 7.  3.  5.  5.  3.  0.  1.  1.  3.  0.]\n",
      " [20.  7. 14.  8.  5.  4.  4.  3. 10.  6.]\n",
      " [10.  5.  6.  0. 10.  1.  2.  0.  1.  3.]\n",
      " [ 7.  3.  1.  2.  1.  4.  2.  0.  3.  1.]\n",
      " [13.  9.  7.  6.  1.  3.  3.  2.  3.  1.]]\n"
     ]
    }
   ],
   "source": [
    "print(\"Snippet of the Bag-of-Words matrix (first 5 samples, first 10 features):\")\n",
    "print(X_train[:5, :10])"
   ]
  },
  {
   "cell_type": "code",
   "execution_count": null,
   "id": "69cfd672-308d-42a6-b8fc-f3356a692e29",
   "metadata": {},
   "outputs": [],
   "source": []
  }
 ],
 "metadata": {
  "kernelspec": {
   "display_name": "magister",
   "language": "python",
   "name": "magister"
  },
  "language_info": {
   "codemirror_mode": {
    "name": "ipython",
    "version": 3
   },
   "file_extension": ".py",
   "mimetype": "text/x-python",
   "name": "python",
   "nbconvert_exporter": "python",
   "pygments_lexer": "ipython3",
   "version": "3.12.7"
  }
 },
 "nbformat": 4,
 "nbformat_minor": 5
}
