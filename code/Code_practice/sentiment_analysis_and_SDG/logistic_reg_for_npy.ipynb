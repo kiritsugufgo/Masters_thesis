{
 "cells": [
  {
   "cell_type": "markdown",
   "id": "c960557c-31e2-4dbc-91fc-0894f7ef6b05",
   "metadata": {},
   "source": [
    "# Logistic regression with SGD optimizer\n",
    "\n",
    "## Steps:\n",
    "<ol>\n",
    " <li>Load data</li>\n",
    " <li>Build Vocab (no need for preprocess since dataset seemed to be already processed)</li>\n",
    " <li>Convert to bag of words</li>\n",
    " <li>Train the model</li>\n",
    "</ol>"
   ]
  },
  {
   "cell_type": "code",
   "execution_count": 1,
   "id": "3e149f26-3cf7-46a2-ad1a-f51a25319005",
   "metadata": {
    "collapsed": true,
    "jupyter": {
     "outputs_hidden": true
    },
    "tags": []
   },
   "outputs": [
    {
     "name": "stdout",
     "output_type": "stream",
     "text": [
      "Defaulting to user installation because normal site-packages is not writeable\n",
      "Requirement already satisfied: numpy in /home/yuto/.local/lib/python3.10/site-packages (1.23.4)\n",
      "Requirement already satisfied: pandas in /home/yuto/.local/lib/python3.10/site-packages (1.5.1)\n",
      "Requirement already satisfied: torch in /home/yuto/.local/lib/python3.10/site-packages (2.5.1)\n",
      "Requirement already satisfied: nltk in /home/yuto/.local/lib/python3.10/site-packages (3.8.1)\n",
      "Requirement already satisfied: seaborn in /home/yuto/.local/lib/python3.10/site-packages (0.12.2)\n",
      "Requirement already satisfied: tqdm in /home/yuto/.local/lib/python3.10/site-packages (4.64.1)\n",
      "Requirement already satisfied: matplotlib in /home/yuto/.local/lib/python3.10/site-packages (3.6.3)\n",
      "Requirement already satisfied: scikit-learn in /home/yuto/.local/lib/python3.10/site-packages (1.2.0)\n",
      "Requirement already satisfied: python-dateutil>=2.8.1 in /home/yuto/.local/lib/python3.10/site-packages (from pandas) (2.8.2)\n",
      "Requirement already satisfied: pytz>=2020.1 in /usr/lib/python3/dist-packages (from pandas) (2022.1)\n",
      "Requirement already satisfied: filelock in /home/yuto/.local/lib/python3.10/site-packages (from torch) (3.8.0)\n",
      "Requirement already satisfied: typing-extensions>=4.8.0 in /home/yuto/.local/lib/python3.10/site-packages (from torch) (4.12.2)\n",
      "Requirement already satisfied: networkx in /home/yuto/.local/lib/python3.10/site-packages (from torch) (3.4.2)\n",
      "Requirement already satisfied: jinja2 in /home/yuto/.local/lib/python3.10/site-packages (from torch) (3.1.2)\n",
      "Requirement already satisfied: fsspec in /home/yuto/.local/lib/python3.10/site-packages (from torch) (2024.10.0)\n",
      "Requirement already satisfied: nvidia-cuda-nvrtc-cu12==12.4.127 in /home/yuto/.local/lib/python3.10/site-packages (from torch) (12.4.127)\n",
      "Requirement already satisfied: nvidia-cuda-runtime-cu12==12.4.127 in /home/yuto/.local/lib/python3.10/site-packages (from torch) (12.4.127)\n",
      "Requirement already satisfied: nvidia-cuda-cupti-cu12==12.4.127 in /home/yuto/.local/lib/python3.10/site-packages (from torch) (12.4.127)\n",
      "Requirement already satisfied: nvidia-cudnn-cu12==9.1.0.70 in /home/yuto/.local/lib/python3.10/site-packages (from torch) (9.1.0.70)\n",
      "Requirement already satisfied: nvidia-cublas-cu12==12.4.5.8 in /home/yuto/.local/lib/python3.10/site-packages (from torch) (12.4.5.8)\n",
      "Requirement already satisfied: nvidia-cufft-cu12==11.2.1.3 in /home/yuto/.local/lib/python3.10/site-packages (from torch) (11.2.1.3)\n",
      "Requirement already satisfied: nvidia-curand-cu12==10.3.5.147 in /home/yuto/.local/lib/python3.10/site-packages (from torch) (10.3.5.147)\n",
      "Requirement already satisfied: nvidia-cusolver-cu12==11.6.1.9 in /home/yuto/.local/lib/python3.10/site-packages (from torch) (11.6.1.9)\n",
      "Requirement already satisfied: nvidia-cusparse-cu12==12.3.1.170 in /home/yuto/.local/lib/python3.10/site-packages (from torch) (12.3.1.170)\n",
      "Requirement already satisfied: nvidia-nccl-cu12==2.21.5 in /home/yuto/.local/lib/python3.10/site-packages (from torch) (2.21.5)\n",
      "Requirement already satisfied: nvidia-nvtx-cu12==12.4.127 in /home/yuto/.local/lib/python3.10/site-packages (from torch) (12.4.127)\n",
      "Requirement already satisfied: nvidia-nvjitlink-cu12==12.4.127 in /home/yuto/.local/lib/python3.10/site-packages (from torch) (12.4.127)\n",
      "Requirement already satisfied: triton==3.1.0 in /home/yuto/.local/lib/python3.10/site-packages (from torch) (3.1.0)\n",
      "Requirement already satisfied: sympy==1.13.1 in /home/yuto/.local/lib/python3.10/site-packages (from torch) (1.13.1)\n",
      "Requirement already satisfied: mpmath<1.4,>=1.1.0 in /home/yuto/.local/lib/python3.10/site-packages (from sympy==1.13.1->torch) (1.3.0)\n",
      "Requirement already satisfied: click in /usr/lib/python3/dist-packages (from nltk) (8.0.3)\n",
      "Requirement already satisfied: joblib in /home/yuto/.local/lib/python3.10/site-packages (from nltk) (1.2.0)\n",
      "Requirement already satisfied: regex>=2021.8.3 in /home/yuto/.local/lib/python3.10/site-packages (from nltk) (2022.10.31)\n",
      "Requirement already satisfied: contourpy>=1.0.1 in /home/yuto/.local/lib/python3.10/site-packages (from matplotlib) (1.0.7)\n",
      "Requirement already satisfied: cycler>=0.10 in /home/yuto/.local/lib/python3.10/site-packages (from matplotlib) (0.11.0)\n",
      "Requirement already satisfied: fonttools>=4.22.0 in /home/yuto/.local/lib/python3.10/site-packages (from matplotlib) (4.38.0)\n",
      "Requirement already satisfied: kiwisolver>=1.0.1 in /home/yuto/.local/lib/python3.10/site-packages (from matplotlib) (1.4.4)\n",
      "Requirement already satisfied: packaging>=20.0 in /home/yuto/.local/lib/python3.10/site-packages (from matplotlib) (21.3)\n",
      "Requirement already satisfied: pillow>=6.2.0 in /usr/lib/python3/dist-packages (from matplotlib) (9.0.1)\n",
      "Requirement already satisfied: pyparsing>=2.2.1 in /usr/lib/python3/dist-packages (from matplotlib) (2.4.7)\n",
      "Requirement already satisfied: scipy>=1.3.2 in /home/yuto/.local/lib/python3.10/site-packages (from scikit-learn) (1.10.0)\n",
      "Requirement already satisfied: threadpoolctl>=2.0.0 in /home/yuto/.local/lib/python3.10/site-packages (from scikit-learn) (3.1.0)\n",
      "Requirement already satisfied: six>=1.5 in /usr/lib/python3/dist-packages (from python-dateutil>=2.8.1->pandas) (1.16.0)\n",
      "Requirement already satisfied: MarkupSafe>=2.0 in /home/yuto/.local/lib/python3.10/site-packages (from jinja2->torch) (2.1.2)\n",
      "\n",
      "\u001b[1m[\u001b[0m\u001b[34;49mnotice\u001b[0m\u001b[1;39;49m]\u001b[0m\u001b[39;49m A new release of pip is available: \u001b[0m\u001b[31;49m24.3.1\u001b[0m\u001b[39;49m -> \u001b[0m\u001b[32;49m25.0.1\u001b[0m\n",
      "\u001b[1m[\u001b[0m\u001b[34;49mnotice\u001b[0m\u001b[1;39;49m]\u001b[0m\u001b[39;49m To update, run: \u001b[0m\u001b[32;49mpython3 -m pip install --upgrade pip\u001b[0m\n"
     ]
    }
   ],
   "source": [
    "!pip install numpy pandas torch nltk seaborn tqdm matplotlib scikit-learn"
   ]
  },
  {
   "cell_type": "code",
   "execution_count": 1,
   "id": "e4218d35-892e-45da-a329-725ad9aa9c0a",
   "metadata": {},
   "outputs": [],
   "source": [
    "import numpy as np \n",
    "import pandas as pd\n",
    "from nltk.corpus import stopwords\n",
    "from collections import Counter\n",
    "import re\n",
    "import matplotlib.pyplot as plt"
   ]
  },
  {
   "cell_type": "code",
   "execution_count": 2,
   "id": "912cb0d8-5c1e-4a09-8876-50df620f2e14",
   "metadata": {},
   "outputs": [],
   "source": [
    "# Load training and testing data\n",
    "x_train = np.load('imdb_data/x-train.npy', allow_pickle=True) \n",
    "y_train = np.load('imdb_data/y-train.npy', allow_pickle=True)  \n",
    "\n",
    "x_test = np.load('imdb_data/x-test.npy', allow_pickle=True)   \n",
    "y_test = np.load('imdb_data/y-test.npy', allow_pickle=True)"
   ]
  },
  {
   "cell_type": "code",
   "execution_count": 3,
   "id": "a49d398c-52c4-446f-a333-20ffa3f090ae",
   "metadata": {
    "tags": []
   },
   "outputs": [
    {
     "name": "stdout",
     "output_type": "stream",
     "text": [
      "[1, 14, 22, 16, 43, 530, 973, 1622, 1385, 65, 458, 4468, 66, 3941, 4, 173, 36, 256, 5, 25, 100, 43, 838, 112, 50, 670, 2, 9, 35, 480, 284, 5, 150, 4, 172, 112, 167, 2, 336, 385, 39, 4, 172, 4536, 1111, 17, 546, 38, 13, 447, 4, 192, 50, 16, 6, 147, 2025, 19, 14, 22, 4, 1920, 4613, 469, 4, 22, 71, 87, 12, 16, 43, 530, 38, 76, 15, 13, 1247, 4, 22, 17, 515, 17, 12, 16, 626, 18, 2, 5, 62, 386, 12, 8, 316, 8, 106, 5, 4, 2223, 5244, 16, 480, 66, 3785, 33, 4, 130, 12, 16, 38, 619, 5, 25, 124, 51, 36, 135, 48, 25, 1415, 33, 6, 22, 12, 215, 28, 77, 52, 5, 14, 407, 16, 82, 2, 8, 4, 107, 117, 5952, 15, 256, 4, 2, 7, 3766, 5, 723, 36, 71, 43, 530, 476, 26, 400, 317, 46, 7, 4, 2, 1029, 13, 104, 88, 4, 381, 15, 297, 98, 32, 2071, 56, 26, 141, 6, 194, 7486, 18, 4, 226, 22, 21, 134, 476, 26, 480, 5, 144, 30, 5535, 18, 51, 36, 28, 224, 92, 25, 104, 4, 226, 65, 16, 38, 1334, 88, 12, 16, 283, 5, 16, 4472, 113, 103, 32, 15, 16, 5345, 19, 178, 32]\n",
      "1\n",
      "<class 'numpy.ndarray'>\n",
      "25000\n"
     ]
    }
   ],
   "source": [
    "print(x_train[0])\n",
    "print(y_train[0])\n",
    "print(type(x_train))\n",
    "print(len(x_train))"
   ]
  },
  {
   "cell_type": "code",
   "execution_count": 4,
   "id": "38eebf9a-b11d-4f18-aa1e-9068aa8353ac",
   "metadata": {},
   "outputs": [],
   "source": [
    "#Build vocabulary based \n",
    "def build_vocab(sequences, vocab_size):\n",
    "    counter = Counter()\n",
    "    for seq in sequences:\n",
    "        counter.update(seq)\n",
    "        \n",
    "    most_common = counter.most_common(vocab_size)\n",
    "    vocab = {token: idx for idx, (token, _) in enumerate(most_common)}\n",
    "    return vocab"
   ]
  },
  {
   "cell_type": "code",
   "execution_count": 10,
   "id": "a8d4fa89-fa2f-446e-ac48-31ee751d9c30",
   "metadata": {},
   "outputs": [],
   "source": [
    "#convert to BoW \n",
    "def token_to_Bow(sequences, vocab):\n",
    "    bow = np.zeros(len(vocab))\n",
    "    token_counts = Counter(sequences)\n",
    "    for token, count in token_counts.items():\n",
    "        if token in vocab:\n",
    "            bow[vocab[token]] = count\n",
    "    return bow"
   ]
  },
  {
   "cell_type": "code",
   "execution_count": 6,
   "id": "a4eb5572-0d54-4224-a301-0760c89bb209",
   "metadata": {},
   "outputs": [],
   "source": [
    "vocab = build_vocab(x_train, vocab_size=10_000)"
   ]
  },
  {
   "cell_type": "code",
   "execution_count": 7,
   "id": "d7899e81-70f1-4aab-8ba7-610b717f96a8",
   "metadata": {},
   "outputs": [
    {
     "name": "stdout",
     "output_type": "stream",
     "text": [
      "9998\n"
     ]
    }
   ],
   "source": [
    "print(len(vocab))"
   ]
  },
  {
   "cell_type": "code",
   "execution_count": 11,
   "id": "7a468d8b-49f2-4523-96c0-5cc58dacaf4a",
   "metadata": {},
   "outputs": [],
   "source": [
    "X_train = np.array([token_to_Bow(sequences, vocab) for sequences in x_train])\n",
    "X_test = np.array([token_to_Bow(sequences, vocab) for sequences in x_test])"
   ]
  },
  {
   "cell_type": "code",
   "execution_count": 12,
   "id": "0ebc2e7e-2187-46ca-a07d-b5674fdf7617",
   "metadata": {},
   "outputs": [
    {
     "name": "stdout",
     "output_type": "stream",
     "text": [
      "X_train: [[ 6. 15.  9. ...  0.  0.  0.]\n",
      " [ 7. 15. 10. ...  0.  0.  0.]\n",
      " [ 2.  9.  0. ...  0.  0.  0.]\n",
      " ...\n",
      " [14. 13.  5. ...  0.  0.  0.]\n",
      " [ 5.  5.  7. ...  0.  0.  0.]\n",
      " [12. 10.  6. ...  0.  0.  0.]]\n",
      "X_test: [[ 3.  3.  2. ...  0.  0.  0.]\n",
      " [ 7. 18.  9. ...  0.  0.  0.]\n",
      " [68. 36. 11. ...  0.  0.  0.]\n",
      " ...\n",
      " [ 2.  3.  1. ...  0.  0.  0.]\n",
      " [ 1.  8.  4. ...  0.  0.  0.]\n",
      " [10.  8.  3. ...  0.  0.  0.]]\n"
     ]
    }
   ],
   "source": [
    "print(f'X_train: {X_train}')\n",
    "print(f'X_test: {X_test}')"
   ]
  },
  {
   "cell_type": "code",
   "execution_count": 13,
   "id": "713bdee8-5d5e-4243-b51d-afd0eae71ba4",
   "metadata": {},
   "outputs": [
    {
     "data": {
      "text/plain": [
       "(25000, 9998)"
      ]
     },
     "execution_count": 13,
     "metadata": {},
     "output_type": "execute_result"
    }
   ],
   "source": [
    "X_train.shape"
   ]
  },
  {
   "cell_type": "code",
   "execution_count": 14,
   "id": "c27a1e7a-3041-4de9-bc5d-9853c920b880",
   "metadata": {},
   "outputs": [],
   "source": [
    "class LogisticRegressionSGD:\n",
    "    def __init__(self, learning_rate=0.01, epochs=10):\n",
    "        self.learning_rate = learning_rate\n",
    "        self.epochs = epochs\n",
    "        self.weights = None\n",
    "        self.bias = 0\n",
    "        self.loss_history = []\n",
    "    \n",
    "    def sigmoid(self, z):\n",
    "        return 1 / (1 + np.exp(-z))\n",
    "\n",
    "    def train(self, X, y):\n",
    "        num_samples, num_features = X.shape\n",
    "        self.weights = np.zeros(num_features)\n",
    "\n",
    "        for epoch in range(self.epochs):\n",
    "            epoch_loss = 0  \n",
    "            for i in range(num_samples):\n",
    "                xi = X[i]\n",
    "                yi = y[i]\n",
    "                linear_output = np.dot(xi, self.weights) + self.bias\n",
    "                prediction = self.sigmoid(linear_output)\n",
    "\n",
    "                # Compute gradients\n",
    "                error = prediction - yi\n",
    "                self.weights -= self.learning_rate * error * xi\n",
    "                self.bias -= self.learning_rate * error  # Update bias\n",
    "\n",
    "                # Calculate loss for this sample and add to epoch_loss\n",
    "                epsilon = 1e-10\n",
    "                sample_loss = - (yi * np.log(prediction + epsilon) + (1 - yi) * np.log(1 - prediction + epsilon))\n",
    "                epoch_loss += sample_loss\n",
    "\n",
    "            # Average loss over the samples in the epoch\n",
    "            epoch_loss /= num_samples\n",
    "            self.loss_history.append(epoch_loss)\n",
    "            print(f'Epoch {epoch+1}, Loss: {epoch_loss:.4f}')\n",
    "\n",
    "    def predict(self, X):\n",
    "        linear_output = np.dot(X, self.weights) + self.bias\n",
    "        return (self.sigmoid(linear_output) >= 0.5).astype(int)"
   ]
  },
  {
   "cell_type": "code",
   "execution_count": 19,
   "id": "9bbd54ff-1b5b-412f-b1c3-ccb2cecef09c",
   "metadata": {
    "collapsed": true,
    "jupyter": {
     "outputs_hidden": true
    },
    "tags": []
   },
   "outputs": [
    {
     "name": "stdout",
     "output_type": "stream",
     "text": [
      "Epoch 1, Loss: 1.4756\n",
      "Epoch 2, Loss: 1.0415\n",
      "Epoch 3, Loss: 0.8583\n",
      "Epoch 4, Loss: 0.7870\n",
      "Epoch 5, Loss: 0.7226\n",
      "Epoch 6, Loss: 0.6566\n",
      "Epoch 7, Loss: 0.5921\n",
      "Epoch 8, Loss: 0.5535\n",
      "Epoch 9, Loss: 0.5240\n",
      "Epoch 10, Loss: 0.5101\n",
      "Epoch 11, Loss: 0.4615\n",
      "Epoch 12, Loss: 0.4336\n",
      "Epoch 13, Loss: 0.4148\n",
      "Epoch 14, Loss: 0.4159\n",
      "Epoch 15, Loss: 0.3651\n",
      "Epoch 16, Loss: 0.3652\n",
      "Epoch 17, Loss: 0.3362\n",
      "Epoch 18, Loss: 0.3151\n",
      "Epoch 19, Loss: 0.3258\n",
      "Epoch 20, Loss: 0.2984\n",
      "Epoch 21, Loss: 0.2901\n",
      "Epoch 22, Loss: 0.2811\n",
      "Epoch 23, Loss: 0.2748\n",
      "Epoch 24, Loss: 0.2486\n",
      "Epoch 25, Loss: 0.2549\n",
      "Epoch 26, Loss: 0.2372\n",
      "Epoch 27, Loss: 0.2350\n",
      "Epoch 28, Loss: 0.2363\n",
      "Epoch 29, Loss: 0.2329\n",
      "Epoch 30, Loss: 0.2227\n",
      "Epoch 31, Loss: 0.2093\n",
      "Epoch 32, Loss: 0.2080\n",
      "Epoch 33, Loss: 0.2020\n",
      "Epoch 34, Loss: 0.1928\n",
      "Epoch 35, Loss: 0.1955\n",
      "Epoch 36, Loss: 0.1780\n",
      "Epoch 37, Loss: 0.1665\n",
      "Epoch 38, Loss: 0.1620\n",
      "Epoch 39, Loss: 0.1656\n",
      "Epoch 40, Loss: 0.1666\n",
      "Epoch 41, Loss: 0.1507\n",
      "Epoch 42, Loss: 0.1635\n",
      "Epoch 43, Loss: 0.1634\n",
      "Epoch 44, Loss: 0.1362\n",
      "Epoch 45, Loss: 0.1510\n",
      "Epoch 46, Loss: 0.1268\n",
      "Epoch 47, Loss: 0.1305\n",
      "Epoch 48, Loss: 0.1288\n",
      "Epoch 49, Loss: 0.1341\n",
      "Epoch 50, Loss: 0.1271\n",
      "Epoch 51, Loss: 0.1172\n",
      "Epoch 52, Loss: 0.1137\n",
      "Epoch 53, Loss: 0.1233\n",
      "Epoch 54, Loss: 0.1311\n",
      "Epoch 55, Loss: 0.1096\n",
      "Epoch 56, Loss: 0.1079\n",
      "Epoch 57, Loss: 0.1059\n",
      "Epoch 58, Loss: 0.1004\n",
      "Epoch 59, Loss: 0.1082\n",
      "Epoch 60, Loss: 0.1072\n",
      "Epoch 61, Loss: 0.1127\n",
      "Epoch 62, Loss: 0.1068\n",
      "Epoch 63, Loss: 0.0869\n",
      "Epoch 64, Loss: 0.0813\n",
      "Epoch 65, Loss: 0.1066\n",
      "Epoch 66, Loss: 0.0939\n",
      "Epoch 67, Loss: 0.0783\n",
      "Epoch 68, Loss: 0.0807\n",
      "Epoch 69, Loss: 0.0945\n",
      "Epoch 70, Loss: 0.0841\n",
      "Epoch 71, Loss: 0.0818\n",
      "Epoch 72, Loss: 0.0745\n",
      "Epoch 73, Loss: 0.0861\n",
      "Epoch 74, Loss: 0.0794\n",
      "Epoch 75, Loss: 0.0798\n",
      "Epoch 76, Loss: 0.0648\n",
      "Epoch 77, Loss: 0.0685\n",
      "Epoch 78, Loss: 0.0701\n",
      "Epoch 79, Loss: 0.0706\n",
      "Epoch 80, Loss: 0.0731\n",
      "Epoch 81, Loss: 0.0623\n",
      "Epoch 82, Loss: 0.0654\n",
      "Epoch 83, Loss: 0.0584\n",
      "Epoch 84, Loss: 0.0612\n",
      "Epoch 85, Loss: 0.0643\n",
      "Epoch 86, Loss: 0.0524\n",
      "Epoch 87, Loss: 0.0597\n",
      "Epoch 88, Loss: 0.0687\n",
      "Epoch 89, Loss: 0.0526\n",
      "Epoch 90, Loss: 0.0535\n",
      "Epoch 91, Loss: 0.0488\n",
      "Epoch 92, Loss: 0.0470\n",
      "Epoch 93, Loss: 0.0578\n",
      "Epoch 94, Loss: 0.0529\n",
      "Epoch 95, Loss: 0.0496\n",
      "Epoch 96, Loss: 0.0494\n",
      "Epoch 97, Loss: 0.0457\n",
      "Epoch 98, Loss: 0.0434\n",
      "Epoch 99, Loss: 0.0418\n",
      "Epoch 100, Loss: 0.0411\n"
     ]
    }
   ],
   "source": [
    "# Train model\n",
    "model = LogisticRegressionSGD(learning_rate=0.01, epochs=100)\n",
    "model.train(X_train, y_train)"
   ]
  },
  {
   "cell_type": "code",
   "execution_count": 16,
   "id": "bd0adcaf-ec7d-49ab-9f61-8a586f69c18b",
   "metadata": {},
   "outputs": [
    {
     "name": "stdout",
     "output_type": "stream",
     "text": [
      "Accuracy: 0.8479\n"
     ]
    }
   ],
   "source": [
    "y_pred = model.predict(X_test)\n",
    "accuracy = np.mean(y_pred == y_test)\n",
    "print(f'Accuracy: {accuracy:.4f}')"
   ]
  },
  {
   "cell_type": "code",
   "execution_count": 17,
   "id": "948aba1e-2b98-4f06-9a4d-dbd774c88b77",
   "metadata": {},
   "outputs": [
    {
     "data": {
      "image/png": "[encoded data removed]",
      "text/plain": [
       "<Figure size 800x500 with 1 Axes>"
      ]
     },
     "metadata": {},
     "output_type": "display_data"
    }
   ],
   "source": [
    "plt.figure(figsize=(8, 5))\n",
    "plt.plot(range(1, model.epochs + 1), model.loss_history, marker='o', linestyle='-', color='b')\n",
    "plt.title('Training Loss per Epoch, Epoch=50')\n",
    "plt.xlabel('Epoch')\n",
    "plt.ylabel('Loss')\n",
    "plt.grid(True)\n",
    "plt.show()"
   ]
  },
  {
   "cell_type": "code",
   "execution_count": 20,
   "id": "15e1c992-cc50-46c1-b6b7-074b73543479",
   "metadata": {
    "tags": []
   },
   "outputs": [
    {
     "data": {
      "image/png": "[encoded data removed]",
      "text/plain": [
       "<Figure size 800x500 with 1 Axes>"
      ]
     },
     "metadata": {},
     "output_type": "display_data"
    }
   ],
   "source": [
    "# Plot training loss over epochs\n",
    "plt.figure(figsize=(8, 5))\n",
    "plt.plot(range(1, model.epochs + 1), model.loss_history, marker='o', linestyle='-', color='b')\n",
    "plt.title('Training Loss per Epoch, Epoch=100')\n",
    "plt.xlabel('Epoch')\n",
    "plt.ylabel('Loss')\n",
    "plt.grid(True)\n",
    "plt.show()"
   ]
  },
  {
   "cell_type": "code",
   "execution_count": 18,
   "id": "066c94c5-96f1-404c-b3b9-adbd003d3d0d",
   "metadata": {},
   "outputs": [
    {
     "name": "stdout",
     "output_type": "stream",
     "text": [
      "Snippet of the Bag-of-Words matrix (first 5 samples, first 10 features):\n",
      "[[ 6. 15.  9.  3.  2.  3.  1.  0.  0.  6.]\n",
      " [ 7. 15. 10.  3.  2.  3. 10.  0.  2.  0.]\n",
      " [ 2.  9.  0.  4.  4.  4.  2.  0.  2.  4.]\n",
      " [51. 36. 12.  8. 21. 12. 12. 16. 12.  8.]\n",
      " [ 1.  2.  6.  2.  4.  2.  0.  2.  2.  3.]]\n"
     ]
    }
   ],
   "source": [
    "print(\"Snippet of the Bag-of-Words matrix (first 5 samples, first 10 features):\")\n",
    "print(X_train[:5, :10])"
   ]
  },
  {
   "cell_type": "code",
   "execution_count": null,
   "id": "69cfd672-308d-42a6-b8fc-f3356a692e29",
   "metadata": {},
   "outputs": [],
   "source": []
  }
 ],
 "metadata": {
  "kernelspec": {
   "display_name": "magister",
   "language": "python",
   "name": "magister"
  },
  "language_info": {
   "codemirror_mode": {
    "name": "ipython",
    "version": 3
   },
   "file_extension": ".py",
   "mimetype": "text/x-python",
   "name": "python",
   "nbconvert_exporter": "python",
   "pygments_lexer": "ipython3",
   "version": "3.12.7"
  }
 },
 "nbformat": 4,
 "nbformat_minor": 5
}
