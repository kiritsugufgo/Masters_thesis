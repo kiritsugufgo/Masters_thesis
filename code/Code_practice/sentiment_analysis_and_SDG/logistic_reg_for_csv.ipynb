{
 "cells": [
  {
   "cell_type": "markdown",
   "id": "c960557c-31e2-4dbc-91fc-0894f7ef6b05",
   "metadata": {},
   "source": [
    "# Logistic regression with SGD optimizer\n",
    "\n",
    "## Steps:\n",
    "<ol>\n",
    " <li>Load data</li>\n",
    " <li>Clean sentences and tokenize</li>\n",
    " <li>Build Vocab</li>\n",
    " <li>Convert to bag of words</li>\n",
    " <li>Train the model</li>\n",
    "</ol>"
   ]
  },
  {
   "cell_type": "code",
   "execution_count": 1,
   "id": "e4218d35-892e-45da-a329-725ad9aa9c0a",
   "metadata": {},
   "outputs": [],
   "source": [
    "import numpy as np \n",
    "import pandas as pd\n",
    "from nltk.corpus import stopwords\n",
    "from collections import Counter\n",
    "import re\n",
    "import matplotlib.pyplot as plt"
   ]
  },
  {
   "cell_type": "code",
   "execution_count": 2,
   "id": "912cb0d8-5c1e-4a09-8876-50df620f2e14",
   "metadata": {},
   "outputs": [],
   "source": [
    "# Load training and testing data\n",
    "train_df = pd.read_csv('simple_IMBD_dataset/Train.csv')\n",
    "test_df = pd.read_csv('simple_IMBD_dataset/Test.csv')"
   ]
  },
  {
   "cell_type": "code",
   "execution_count": 3,
   "id": "a49d398c-52c4-446f-a333-20ffa3f090ae",
   "metadata": {},
   "outputs": [
    {
     "name": "stdout",
     "output_type": "stream",
     "text": [
      "                                                text  label\n",
      "0  I grew up (b. 1965) watching and loving the Th...      0\n",
      "                                                text  label\n",
      "0  I always wrote this series off as being a comp...      0\n"
     ]
    }
   ],
   "source": [
    "print(train_df.head(1))\n",
    "print(test_df.head(1))"
   ]
  },
  {
   "cell_type": "code",
   "execution_count": 4,
   "id": "405c85ed-5b75-4469-a1f8-9779f48a5d20",
   "metadata": {},
   "outputs": [
    {
     "name": "stdout",
     "output_type": "stream",
     "text": [
      "shape of train data is (40000,)\n",
      "shape of test data is (5000,)\n"
     ]
    }
   ],
   "source": [
    "# Extract features from the df\n",
    "x_train = train_df['text'].values  \n",
    "y_train = train_df['label'].values \n",
    "x_test = test_df['text'].values  \n",
    "y_test = test_df['label'].values  \n",
    "\n",
    "print(f'shape of train data is {x_train.shape}')\n",
    "print(f'shape of test data is {x_test.shape}')"
   ]
  },
  {
   "cell_type": "code",
   "execution_count": 5,
   "id": "52c88621-74c0-4c4d-9d41-9dd57e2fa7b4",
   "metadata": {},
   "outputs": [],
   "source": [
    "#clean text and tokenize\n",
    "def preprocess(text):\n",
    "    text = text.lower()\n",
    "    text = re.sub(r'[^a-z\\s]', '', text)\n",
    "    return text.split()"
   ]
  },
  {
   "cell_type": "code",
   "execution_count": 6,
   "id": "38eebf9a-b11d-4f18-aa1e-9068aa8353ac",
   "metadata": {},
   "outputs": [],
   "source": [
    "#Build vocabulary based \n",
    "def build_vocab(texts, vocab_size):\n",
    "    counter = Counter()\n",
    "    for text in texts:\n",
    "        words = preprocess(text)\n",
    "        counter.update(words)\n",
    "        \n",
    "    most_common = counter.most_common(vocab_size)\n",
    "    vocab = {word: idx for idx, (word, _) in enumerate(most_common)}\n",
    "    return {word: i for i, word in enumerate(vocab)}"
   ]
  },
  {
   "cell_type": "code",
   "execution_count": 7,
   "id": "a8d4fa89-fa2f-446e-ac48-31ee751d9c30",
   "metadata": {},
   "outputs": [],
   "source": [
    "#convert text to BoW \n",
    "def text_to_Bow(text, vocab):\n",
    "    bow = np.zeros(len(vocab))\n",
    "    word_counts = Counter(preprocess(text))\n",
    "    for word, count in word_counts.items():\n",
    "        if word in vocab:\n",
    "            bow[vocab[word]] = count\n",
    "    return bow"
   ]
  },
  {
   "cell_type": "code",
   "execution_count": 8,
   "id": "7a468d8b-49f2-4523-96c0-5cc58dacaf4a",
   "metadata": {},
   "outputs": [],
   "source": [
    "vocab = build_vocab(x_train, vocab_size=10_000)\n",
    "X_train = np.array([text_to_Bow(text, vocab) for text in x_train])\n",
    "X_test = np.array([text_to_Bow(text, vocab) for text in x_test])"
   ]
  },
  {
   "cell_type": "code",
   "execution_count": 9,
   "id": "0ebc2e7e-2187-46ca-a07d-b5674fdf7617",
   "metadata": {},
   "outputs": [
    {
     "name": "stdout",
     "output_type": "stream",
     "text": [
      "X_train: [[ 7.  3.  5. ...  0.  0.  0.]\n",
      " [20.  7. 14. ...  0.  0.  0.]\n",
      " [10.  5.  6. ...  0.  0.  0.]\n",
      " ...\n",
      " [ 8. 10.  3. ...  0.  0.  0.]\n",
      " [15.  8.  5. ...  0.  0.  0.]\n",
      " [ 8.  6.  6. ...  0.  0.  0.]]\n",
      "X_test: [[19.  9. 11. ...  0.  0.  0.]\n",
      " [ 8.  3.  3. ...  0.  0.  0.]\n",
      " [17.  9.  4. ...  0.  0.  0.]\n",
      " ...\n",
      " [ 6.  2.  1. ...  0.  0.  0.]\n",
      " [ 5. 10.  2. ...  0.  0.  0.]\n",
      " [ 5.  3.  5. ...  0.  0.  0.]]\n"
     ]
    }
   ],
   "source": [
    "print(f'X_train: {X_train}')\n",
    "print(f'X_test: {X_test}')"
   ]
  },
  {
   "cell_type": "code",
   "execution_count": 10,
   "id": "713bdee8-5d5e-4243-b51d-afd0eae71ba4",
   "metadata": {},
   "outputs": [
    {
     "data": {
      "text/plain": [
       "(40000, 10000)"
      ]
     },
     "execution_count": 10,
     "metadata": {},
     "output_type": "execute_result"
    }
   ],
   "source": [
    "X_train.shape"
   ]
  },
  {
   "cell_type": "code",
   "execution_count": 11,
   "id": "c27a1e7a-3041-4de9-bc5d-9853c920b880",
   "metadata": {},
   "outputs": [],
   "source": [
    "class LogisticRegressionSGD:\n",
    "    def __init__(self, learning_rate=0.01, epochs=10):\n",
    "        self.learning_rate = learning_rate\n",
    "        self.epochs = epochs\n",
    "        self.weights = None\n",
    "        self.bias = 0\n",
    "        self.loss_history = []\n",
    "    \n",
    "    def sigmoid(self, z):\n",
    "        return 1 / (1 + np.exp(-z))\n",
    "\n",
    "    def train(self, X, y):\n",
    "        num_samples, num_features = X.shape\n",
    "        self.weights = np.zeros(num_features)\n",
    "\n",
    "        for epoch in range(self.epochs):\n",
    "            epoch_loss = 0  \n",
    "            for i in range(num_samples):\n",
    "                xi = X[i]\n",
    "                yi = y[i]\n",
    "                linear_output = np.dot(xi, self.weights) + self.bias\n",
    "                prediction = self.sigmoid(linear_output)\n",
    "\n",
    "                # Compute gradients\n",
    "                error = prediction - yi\n",
    "                self.weights -= self.learning_rate * error * xi\n",
    "                self.bias -= self.learning_rate * error  # Update bias\n",
    "\n",
    "                # Calculate loss for this sample and add to epoch_loss\n",
    "                epsilon = 1e-10\n",
    "                sample_loss = - (yi * np.log(prediction + epsilon) + (1 - yi) * np.log(1 - prediction + epsilon))\n",
    "                epoch_loss += sample_loss\n",
    "\n",
    "            # Average loss over the samples in the epoch\n",
    "            epoch_loss /= num_samples\n",
    "            self.loss_history.append(epoch_loss)\n",
    "            print(f'Epoch {epoch+1}, Loss: {epoch_loss:.4f}')\n",
    "\n",
    "    def predict(self, X):\n",
    "        linear_output = np.dot(X, self.weights) + self.bias\n",
    "        return (self.sigmoid(linear_output) >= 0.5).astype(int)"
   ]
  },
  {
   "cell_type": "code",
   "execution_count": 12,
   "id": "9bbd54ff-1b5b-412f-b1c3-ccb2cecef09c",
   "metadata": {
    "tags": []
   },
   "outputs": [
    {
     "name": "stdout",
     "output_type": "stream",
     "text": [
      "Epoch 1, Loss: 0.9230\n",
      "Epoch 2, Loss: 0.6621\n",
      "Epoch 3, Loss: 0.5649\n",
      "Epoch 4, Loss: 0.4954\n",
      "Epoch 5, Loss: 0.4647\n",
      "Epoch 6, Loss: 0.4213\n",
      "Epoch 7, Loss: 0.4079\n",
      "Epoch 8, Loss: 0.3769\n",
      "Epoch 9, Loss: 0.3595\n",
      "Epoch 10, Loss: 0.3388\n",
      "Epoch 11, Loss: 0.3265\n",
      "Epoch 12, Loss: 0.3150\n",
      "Epoch 13, Loss: 0.3083\n",
      "Epoch 14, Loss: 0.2893\n",
      "Epoch 15, Loss: 0.2802\n",
      "Epoch 16, Loss: 0.2749\n",
      "Epoch 17, Loss: 0.2674\n",
      "Epoch 18, Loss: 0.2702\n",
      "Epoch 19, Loss: 0.2606\n",
      "Epoch 20, Loss: 0.2506\n",
      "Epoch 21, Loss: 0.2420\n",
      "Epoch 22, Loss: 0.2357\n",
      "Epoch 23, Loss: 0.2277\n",
      "Epoch 24, Loss: 0.2228\n",
      "Epoch 25, Loss: 0.2261\n",
      "Epoch 26, Loss: 0.2250\n",
      "Epoch 27, Loss: 0.2107\n",
      "Epoch 28, Loss: 0.2074\n",
      "Epoch 29, Loss: 0.2088\n",
      "Epoch 30, Loss: 0.2060\n",
      "Epoch 31, Loss: 0.1960\n",
      "Epoch 32, Loss: 0.1979\n",
      "Epoch 33, Loss: 0.1900\n",
      "Epoch 34, Loss: 0.1883\n",
      "Epoch 35, Loss: 0.1902\n",
      "Epoch 36, Loss: 0.1878\n",
      "Epoch 37, Loss: 0.1861\n",
      "Epoch 38, Loss: 0.1837\n",
      "Epoch 39, Loss: 0.1827\n",
      "Epoch 40, Loss: 0.1706\n",
      "Epoch 41, Loss: 0.1706\n",
      "Epoch 42, Loss: 0.1703\n",
      "Epoch 43, Loss: 0.1733\n",
      "Epoch 44, Loss: 0.1692\n",
      "Epoch 45, Loss: 0.1672\n",
      "Epoch 46, Loss: 0.1698\n",
      "Epoch 47, Loss: 0.1685\n",
      "Epoch 48, Loss: 0.1641\n",
      "Epoch 49, Loss: 0.1619\n",
      "Epoch 50, Loss: 0.1595\n"
     ]
    }
   ],
   "source": [
    "# Train model\n",
    "model = LogisticRegressionSGD(learning_rate=0.01, epochs=50)\n",
    "model.train(X_train, y_train)"
   ]
  },
  {
   "cell_type": "code",
   "execution_count": 13,
   "id": "bd0adcaf-ec7d-49ab-9f61-8a586f69c18b",
   "metadata": {},
   "outputs": [
    {
     "name": "stdout",
     "output_type": "stream",
     "text": [
      "Accuracy: 0.8542\n"
     ]
    }
   ],
   "source": [
    "y_pred = model.predict(X_test)\n",
    "accuracy = np.mean(y_pred == y_test)\n",
    "print(f'Accuracy: {accuracy:.4f}')"
   ]
  },
  {
   "cell_type": "code",
   "execution_count": 34,
   "id": "15e1c992-cc50-46c1-b6b7-074b73543479",
   "metadata": {},
   "outputs": [
    {
     "data": {
      "image/png": "[encoded data removed]",
      "text/plain": [
       "<Figure size 800x500 with 1 Axes>"
      ]
     },
     "metadata": {},
     "output_type": "display_data"
    }
   ],
   "source": [
    "# Plot training loss over epochs\n",
    "plt.figure(figsize=(8, 5))\n",
    "plt.plot(range(1, model.epochs + 1), model.loss_history, marker='o', linestyle='-', color='b')\n",
    "plt.title('Training Loss per Epoch, Epoch=10')\n",
    "plt.xlabel('Epoch')\n",
    "plt.ylabel('Loss')\n",
    "plt.grid(True)\n",
    "plt.show()"
   ]
  },
  {
   "cell_type": "code",
   "execution_count": 14,
   "id": "948aba1e-2b98-4f06-9a4d-dbd774c88b77",
   "metadata": {},
   "outputs": [
    {
     "data": {
      "image/png": "[encoded data removed]",
      "text/plain": [
       "<Figure size 800x500 with 1 Axes>"
      ]
     },
     "metadata": {},
     "output_type": "display_data"
    }
   ],
   "source": [
    "plt.figure(figsize=(8, 5))\n",
    "plt.plot(range(1, model.epochs + 1), model.loss_history, marker='o', linestyle='-', color='b')\n",
    "plt.title('Training Loss per Epoch, Epoch=50')\n",
    "plt.xlabel('Epoch')\n",
    "plt.ylabel('Loss')\n",
    "plt.grid(True)\n",
    "plt.show()"
   ]
  },
  {
   "cell_type": "code",
   "execution_count": 17,
   "id": "066c94c5-96f1-404c-b3b9-adbd003d3d0d",
   "metadata": {},
   "outputs": [
    {
     "name": "stdout",
     "output_type": "stream",
     "text": [
      "Snippet of the Bag-of-Words matrix (first 5 samples, first 10 features):\n",
      "[[ 7.  3.  5.  5.  3.  0.  1.  1.  3.  0.]\n",
      " [20.  7. 14.  8.  5.  4.  4.  3. 10.  6.]\n",
      " [10.  5.  6.  0. 10.  1.  2.  0.  1.  3.]\n",
      " [ 7.  3.  1.  2.  1.  4.  2.  0.  3.  1.]\n",
      " [13.  9.  7.  6.  1.  3.  3.  2.  3.  1.]]\n"
     ]
    }
   ],
   "source": [
    "print(\"Snippet of the Bag-of-Words matrix (first 5 samples, first 10 features):\")\n",
    "print(X_train[:5, :10])"
   ]
  },
  {
   "cell_type": "code",
   "execution_count": null,
   "id": "69cfd672-308d-42a6-b8fc-f3356a692e29",
   "metadata": {},
   "outputs": [],
   "source": []
  }
 ],
 "metadata": {
  "kernelspec": {
   "display_name": "magister",
   "language": "python",
   "name": "magister"
  },
  "language_info": {
   "codemirror_mode": {
    "name": "ipython",
    "version": 3
   },
   "file_extension": ".py",
   "mimetype": "text/x-python",
   "name": "python",
   "nbconvert_exporter": "python",
   "pygments_lexer": "ipython3",
   "version": "3.12.7"
  }
 },
 "nbformat": 4,
 "nbformat_minor": 5
}
